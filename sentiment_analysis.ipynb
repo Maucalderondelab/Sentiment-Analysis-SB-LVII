{
 "cells": [
  {
   "cell_type": "code",
   "execution_count": 16,
   "metadata": {},
   "outputs": [],
   "source": [
    "import numpy as np\n",
    "import pandas as pd\n",
    "from scipy.special import softmax\n"
   ]
  },
  {
   "cell_type": "code",
   "execution_count": 76,
   "metadata": {},
   "outputs": [],
   "source": [
    "from transformers import AutoModelForSequenceClassification\n",
    "from transformers import TFAutoModelForSequenceClassification\n",
    "from transformers import AutoTokenizer, AutoConfig\n",
    "\n",
    "from torch.utils.data import DataLoader\n",
    "from sklearn.model_selection import train_test_split\n",
    "from sklearn.metrics import accuracy_score, f1_score\n"
   ]
  },
  {
   "cell_type": "code",
   "execution_count": 77,
   "metadata": {},
   "outputs": [
    {
     "name": "stdout",
     "output_type": "stream",
     "text": [
      "2.2.1\n"
     ]
    },
    {
     "data": {
      "text/plain": [
       "False"
      ]
     },
     "execution_count": 77,
     "metadata": {},
     "output_type": "execute_result"
    }
   ],
   "source": [
    "import torch\n",
    "\n",
    "print(torch.__version__)\n",
    "\n",
    "torch.cuda.is_available()"
   ]
  },
  {
   "cell_type": "markdown",
   "metadata": {},
   "source": [
    "## Let's do the EDA."
   ]
  },
  {
   "cell_type": "code",
   "execution_count": 4,
   "metadata": {},
   "outputs": [],
   "source": [
    "df = pd.read_csv(\"youtube_comments.csv\", delimiter=',')\n",
    "df_comments= df[\"Comment\"]"
   ]
  },
  {
   "cell_type": "code",
   "execution_count": 71,
   "metadata": {},
   "outputs": [
    {
     "data": {
      "text/plain": [
       "0                                      USHER IS A LEGEND 🔥\n",
       "1                                                    Yeah!\n",
       "2                                           Let Him Cook!!\n",
       "3                                    Ok so I ate a raccoon\n",
       "4        All these star performers came together tonigh...\n",
       "                               ...                        \n",
       "38296                         Fireeeee asfff usher Ateeee😭\n",
       "38297                                                first\n",
       "38298                                          yuppp usher\n",
       "38299                                          Legendary 🔥\n",
       "38300                                              Usher??\n",
       "Name: Comment, Length: 38301, dtype: object"
      ]
     },
     "execution_count": 71,
     "metadata": {},
     "output_type": "execute_result"
    }
   ],
   "source": [
    "text  = df_comments[:]\n",
    "text"
   ]
  },
  {
   "cell_type": "code",
   "execution_count": 72,
   "metadata": {},
   "outputs": [],
   "source": [
    "modified_text = []\n",
    "for i in range(len(text)): \n",
    "    # Check if the element is NaN\n",
    "    if isinstance(text[i], str):\n",
    "        # Initialize an empty list to store modified words\n",
    "        modified_words = []\n",
    "        # Split the text into words\n",
    "        for word in text[i].split(' '):\n",
    "            if ' ' not in word and ('@@' in word or word.startswith('http')):\n",
    "                continue\n",
    "            elif '@@' in word:\n",
    "                word = word.replace('@@', '@user')\n",
    "            elif word.startswith('http'):\n",
    "                word = 'http'\n",
    "\n",
    "            # Keep the original word if it doesn't match any conditions\n",
    "            modified_words.append(word)\n",
    "        # Check if the list of modified words is empty\n",
    "        if modified_words:\n",
    "            # Join the modified words into a single string and append it to modified_text\n",
    "            modified_text.append(' '.join(modified_words))\n"
   ]
  },
  {
   "cell_type": "code",
   "execution_count": 73,
   "metadata": {},
   "outputs": [
    {
     "data": {
      "text/plain": [
       "38072"
      ]
     },
     "execution_count": 73,
     "metadata": {},
     "output_type": "execute_result"
    }
   ],
   "source": [
    "len(modified_text)"
   ]
  },
  {
   "cell_type": "markdown",
   "metadata": {},
   "source": [
    "## load the model\n"
   ]
  },
  {
   "cell_type": "code",
   "execution_count": 11,
   "metadata": {},
   "outputs": [
    {
     "name": "stderr",
     "output_type": "stream",
     "text": [
      "config.json: 100%|██████████| 747/747 [00:00<00:00, 1.51MB/s]\n",
      "vocab.json: 100%|██████████| 899k/899k [00:03<00:00, 299kB/s]\n",
      "merges.txt: 100%|██████████| 456k/456k [00:00<00:00, 512kB/s]\n",
      "special_tokens_map.json: 100%|██████████| 150/150 [00:00<00:00, 418kB/s]\n"
     ]
    }
   ],
   "source": [
    "MODEL = f\"cardiffnlp/twitter-roberta-base-sentiment\"\n",
    "tokenizer = AutoTokenizer.from_pretrained(MODEL)\n",
    "# config = AutoConfig.from_pretrained(MODEL)\n",
    "# model = AutoModelForSequenceClassification.from_pretrained(MODEL)"
   ]
  },
  {
   "cell_type": "markdown",
   "metadata": {},
   "source": [
    "model = AutoModelForSequenceClassification.from_pretrained(MODEL)"
   ]
  },
  {
   "cell_type": "code",
   "execution_count": 12,
   "metadata": {},
   "outputs": [
    {
     "name": "stderr",
     "output_type": "stream",
     "text": [
      "pytorch_model.bin: 100%|██████████| 499M/499M [18:13<00:00, 456kB/s] \n"
     ]
    }
   ],
   "source": [
    "model = AutoModelForSequenceClassification.from_pretrained(MODEL)"
   ]
  },
  {
   "cell_type": "markdown",
   "metadata": {},
   "source": [
    "## split the data\n"
   ]
  },
  {
   "cell_type": "code",
   "execution_count": 81,
   "metadata": {},
   "outputs": [],
   "source": [
    "labels = ['Negative', 'Neutral', 'Positive']\n",
    "# # Split data into training and validation sets (e.g., 80% for training, 20% for validation)\n",
    "# X_train, X_val, y_train, y_val = train_test_split(modified_text, labels, test_size=0.2, random_state=42)\n"
   ]
  },
  {
   "cell_type": "code",
   "execution_count": 68,
   "metadata": {},
   "outputs": [
    {
     "name": "stdout",
     "output_type": "stream",
     "text": [
      "972\n"
     ]
    }
   ],
   "source": [
    "\n",
    "\n",
    "# Initialize variables to store cumulative sentiment scores\n",
    "total_scores = np.zeros(len(labels))\n",
    "count = 0\n",
    "# Loop through each text in your dataset\n",
    "for text in modified_text:\n",
    "    # Encode the comment\n",
    "    encoded_comment = tokenizer(text, return_tensors='pt')\n",
    "    \n",
    "    # Analyze sentiment using the model\n",
    "    output = model(**encoded_comment)\n",
    "    \n",
    "    # Extract sentiment scores\n",
    "    scores = output[0][0].detach().numpy()\n",
    "    \n",
    "    # Apply softmax to convert scores to probabilities\n",
    "    scores = softmax(scores)\n",
    "    \n",
    "    # Accumulate sentiment scores\n",
    "    total_scores += scores\n",
    "    count = count + 1\n",
    "    \n",
    "\n",
    "# Calculate average sentiment scores\n",
    "print(count)\n",
    "average_scores = total_scores / len(modified_text)"
   ]
  },
  {
   "cell_type": "code",
   "execution_count": 69,
   "metadata": {},
   "outputs": [
    {
     "name": "stdout",
     "output_type": "stream",
     "text": [
      "[212.89004262 336.22087285 422.88908344]\n"
     ]
    }
   ],
   "source": [
    "print(total_scores)"
   ]
  },
  {
   "cell_type": "code",
   "execution_count": 70,
   "metadata": {},
   "outputs": [
    {
     "name": "stdout",
     "output_type": "stream",
     "text": [
      "Negative: 0.2190\n",
      "Neutral: 0.3459\n",
      "Positive: 0.4351\n"
     ]
    }
   ],
   "source": [
    "# Print average sentiment scores\n",
    "for label, score in zip(labels, average_scores):\n",
    "    print(f\"{label}: {score:.4f}\")"
   ]
  }
 ],
 "metadata": {
  "kernelspec": {
   "display_name": "sb-sentiment",
   "language": "python",
   "name": "python3"
  },
  "language_info": {
   "codemirror_mode": {
    "name": "ipython",
    "version": 3
   },
   "file_extension": ".py",
   "mimetype": "text/x-python",
   "name": "python",
   "nbconvert_exporter": "python",
   "pygments_lexer": "ipython3",
   "version": "3.12.2"
  }
 },
 "nbformat": 4,
 "nbformat_minor": 2
}
