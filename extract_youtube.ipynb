{
 "cells": [
  {
   "cell_type": "code",
   "execution_count": 1,
   "metadata": {},
   "outputs": [
    {
     "name": "stderr",
     "output_type": "stream",
     "text": [
      "/tmp/ipykernel_1712/2092127644.py:3: DeprecationWarning: \n",
      "Pyarrow will become a required dependency of pandas in the next major release of pandas (pandas 3.0),\n",
      "(to allow more performant data types, such as the Arrow string type, and better interoperability with other libraries)\n",
      "but was not found to be installed on your system.\n",
      "If this would cause problems for you,\n",
      "please provide us feedback at https://github.com/pandas-dev/pandas/issues/54466\n",
      "        \n",
      "  import pandas as pd\n"
     ]
    }
   ],
   "source": [
    "# import googleapiclient.discovery\n",
    "from googleapiclient.discovery import build\n",
    "import pandas as pd\n",
    "import getpass"
   ]
  },
  {
   "cell_type": "code",
   "execution_count": 2,
   "metadata": {},
   "outputs": [],
   "source": [
    "video_id = \"7hYbrdC_-s8\"\n",
    "youtube = build('youtube', 'v3', developerKey=api_key)\n"
   ]
  },
  {
   "cell_type": "code",
   "execution_count": 3,
   "metadata": {},
   "outputs": [],
   "source": [
    "request = youtube.commentThreads().list(\n",
    "    part = \"snippet\",\n",
    "    videoId = video_id,\n",
    "    maxResults = 10\n",
    ")\n",
    "response = request.execute()"
   ]
  },
  {
   "cell_type": "code",
   "execution_count": 5,
   "metadata": {},
   "outputs": [
    {
     "data": {
      "text/plain": [
       "{'kind': 'youtube#commentThread',\n",
       " 'etag': 'mr5-uAEb94hs0UAC2uzKjpMaL8E',\n",
       " 'id': 'Ugydw_3yeym_TmMAKU94AaABAg',\n",
       " 'snippet': {'channelId': 'UCDVYQ4Zhbm3S2dlz7P1GBDg',\n",
       "  'videoId': '7hYbrdC_-s8',\n",
       "  'topLevelComment': {'kind': 'youtube#comment',\n",
       "   'etag': '0sPWBtnnDSVPPZE6CAgX5pGPXSw',\n",
       "   'id': 'Ugydw_3yeym_TmMAKU94AaABAg',\n",
       "   'snippet': {'channelId': 'UCDVYQ4Zhbm3S2dlz7P1GBDg',\n",
       "    'videoId': '7hYbrdC_-s8',\n",
       "    'textDisplay': 'USHER IS A LEGEND 🔥',\n",
       "    'textOriginal': 'USHER IS A LEGEND 🔥',\n",
       "    'authorDisplayName': '@JacobRose21',\n",
       "    'authorProfileImageUrl': 'https://yt3.ggpht.com/O7ormMBCZXmhKbsYCkQGjydKTuWiQzP7qh-kKpd0uS62EHPbMy0-U1uKFUTlYWsEvnEFpfIF=s48-c-k-c0x00ffffff-no-rj',\n",
       "    'authorChannelUrl': 'http://www.youtube.com/@JacobRose21',\n",
       "    'authorChannelId': {'value': 'UClBlMcKwLlwOOlOyJ4Vf1IA'},\n",
       "    'canRate': True,\n",
       "    'viewerRating': 'none',\n",
       "    'likeCount': 58323,\n",
       "    'publishedAt': '2024-02-12T07:46:13Z',\n",
       "    'updatedAt': '2024-02-12T07:46:13Z'}},\n",
       "  'canReply': True,\n",
       "  'totalReplyCount': 585,\n",
       "  'isPublic': True}}"
      ]
     },
     "execution_count": 5,
     "metadata": {},
     "output_type": "execute_result"
    }
   ],
   "source": [
    "response['items'][0]"
   ]
  },
  {
   "cell_type": "code",
   "execution_count": 6,
   "metadata": {},
   "outputs": [],
   "source": [
    "comments = []\n",
    "for item in response['items']:\n",
    "    comment = item['snippet']['topLevelComment']['snippet']\n",
    "    comments.append([\n",
    "        comment['authorDisplayName'],\n",
    "        comment['publishedAt'],\n",
    "        comment['updatedAt'],\n",
    "        comment['likeCount'],\n",
    "        comment['textOriginal']\n",
    "        ])"
   ]
  },
  {
   "cell_type": "code",
   "execution_count": 7,
   "metadata": {},
   "outputs": [
    {
     "name": "stdout",
     "output_type": "stream",
     "text": [
      "               Author          published_at            updated_at  \\\n",
      "0        @JacobRose21  2024-02-12T07:46:13Z  2024-02-12T07:46:13Z   \n",
      "1      @zachmoyer1849  2024-02-23T09:26:28Z  2024-02-23T09:26:28Z   \n",
      "2      @fatimaryf9181  2024-02-23T09:22:15Z  2024-02-23T09:22:15Z   \n",
      "3   @stanp1harmony352  2024-02-23T08:49:01Z  2024-02-23T08:49:01Z   \n",
      "4    @QueenCoCoaMocha  2024-02-23T08:38:42Z  2024-02-23T08:38:42Z   \n",
      "5  @anahigonzalez1252  2024-02-23T08:36:05Z  2024-02-23T08:36:05Z   \n",
      "6             @ntryzm  2024-02-23T08:25:41Z  2024-02-23T08:25:41Z   \n",
      "7    @LemonadeLiberal  2024-02-23T08:21:35Z  2024-02-23T08:22:03Z   \n",
      "8      @angelholt8426  2024-02-23T08:21:23Z  2024-02-23T08:21:23Z   \n",
      "9        @glaciou5647  2024-02-23T08:09:44Z  2024-02-23T08:09:44Z   \n",
      "\n",
      "   liked_count                                               text  \n",
      "0        58323                                USHER IS A LEGEND 🔥  \n",
      "1            0  always love the diversity of everyone on camer...  \n",
      "2            0                          SENSATIONELL 😮😮😮❤❤❤!!!!!!  \n",
      "3            1                               USHER is so talented  \n",
      "4            0  I’m finally watching this wondering where’s th...  \n",
      "5            0                                  Simply the best ❤  \n",
      "6            0  Aaaand I still don't know who played in the fi...  \n",
      "7            1  This was nice but I really wanted to see DJ Go...  \n",
      "8            0  Usher is incredible , always has been and alwa...  \n",
      "9            0  Yep. Awesome. Comeback Australia Tour ill buy ...  \n"
     ]
    }
   ],
   "source": [
    "df = pd.DataFrame(comments, columns = ['Author', 'published_at', 'updated_at','liked_count', 'text'])\n",
    "print(df)"
   ]
  }
 ],
 "metadata": {
  "kernelspec": {
   "display_name": "SB-LVII",
   "language": "python",
   "name": "python3"
  },
  "language_info": {
   "codemirror_mode": {
    "name": "ipython",
    "version": 3
   },
   "file_extension": ".py",
   "mimetype": "text/x-python",
   "name": "python",
   "nbconvert_exporter": "python",
   "pygments_lexer": "ipython3",
   "version": "3.10.8"
  }
 },
 "nbformat": 4,
 "nbformat_minor": 2
}
